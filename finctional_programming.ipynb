{
  "nbformat": 4,
  "nbformat_minor": 0,
  "metadata": {
    "colab": {
      "name": "finctional_programming.ipynb",
      "provenance": [],
      "private_outputs": true,
      "authorship_tag": "ABX9TyO4RHGzxcDFT6gmlmP4S30W",
      "include_colab_link": true
    },
    "kernelspec": {
      "name": "python3",
      "display_name": "Python 3"
    }
  },
  "cells": [
    {
      "cell_type": "markdown",
      "metadata": {
        "id": "view-in-github",
        "colab_type": "text"
      },
      "source": [
        "<a href=\"https://colab.research.google.com/github/aamitabh/mlplayground/blob/master/finctional_programming.ipynb\" target=\"_parent\"><img src=\"https://colab.research.google.com/assets/colab-badge.svg\" alt=\"Open In Colab\"/></a>"
      ]
    },
    {
      "cell_type": "markdown",
      "metadata": {
        "id": "ImX0lhUawm_t",
        "colab_type": "text"
      },
      "source": [
        "# Calling sub-Functions"
      ]
    },
    {
      "cell_type": "code",
      "metadata": {
        "id": "csWgavV5wi7J",
        "colab_type": "code",
        "colab": {}
      },
      "source": [
        "def shout(text):\n",
        "  print(text.upper())\n",
        "\n",
        "def whisper(text):\n",
        "  print(text.lower())\n",
        "\n",
        "def yell():\n",
        "  shout('I am yelling')\n",
        "\n",
        "def speak_in_ear():\n",
        "  whisper('I am whispering in your ear')\n",
        "\n",
        "yell()\n",
        "speak_in_ear()"
      ],
      "execution_count": 0,
      "outputs": []
    }
  ]
}