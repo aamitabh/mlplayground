{
  "nbformat": 4,
  "nbformat_minor": 0,
  "metadata": {
    "colab": {
      "name": "finctional_programming.ipynb",
      "provenance": [],
      "private_outputs": true,
      "authorship_tag": "ABX9TyMvnWd+G7nKQ+ZaOoigaVY3",
      "include_colab_link": true
    },
    "kernelspec": {
      "name": "python3",
      "display_name": "Python 3"
    }
  },
  "cells": [
    {
      "cell_type": "markdown",
      "metadata": {
        "id": "view-in-github",
        "colab_type": "text"
      },
      "source": [
        "<a href=\"https://colab.research.google.com/github/aamitabh/mlplayground/blob/master/finctional_programming.ipynb\" target=\"_parent\"><img src=\"https://colab.research.google.com/assets/colab-badge.svg\" alt=\"Open In Colab\"/></a>"
      ]
    },
    {
      "cell_type": "markdown",
      "metadata": {
        "id": "ImX0lhUawm_t",
        "colab_type": "text"
      },
      "source": [
        "# Calling sub-Functions"
      ]
    },
    {
      "cell_type": "code",
      "metadata": {
        "id": "csWgavV5wi7J",
        "colab_type": "code",
        "colab": {}
      },
      "source": [
        "def shout(text):\n",
        "  print(text.upper())\n",
        "\n",
        "def whisper(text):\n",
        "  print(text.lower())\n",
        "\n",
        "def yell():\n",
        "  shout('I am yelling')\n",
        "\n",
        "def speak_in_ear():\n",
        "  whisper('I am whispering in your ear')\n",
        "\n",
        "yell()\n",
        "speak_in_ear()"
      ],
      "execution_count": 0,
      "outputs": []
    },
    {
      "cell_type": "markdown",
      "metadata": {
        "id": "-6mU-jB260hX",
        "colab_type": "text"
      },
      "source": [
        "# Custom function to add column to Pandas"
      ]
    },
    {
      "cell_type": "code",
      "metadata": {
        "id": "YQVdjRtB66iH",
        "colab_type": "code",
        "colab": {}
      },
      "source": [
        "import pandas as pd\n",
        "from sklearn import datasets\n",
        "iris = datasets.load_iris()\n",
        "df = pd.DataFrame(iris.data, columns = iris.feature_names)\n",
        "df"
      ],
      "execution_count": 0,
      "outputs": []
    },
    {
      "cell_type": "markdown",
      "metadata": {
        "id": "Xe9F0tVM9TOc",
        "colab_type": "text"
      },
      "source": [
        "# Create a function to manipulate a Series in Pandas"
      ]
    },
    {
      "cell_type": "code",
      "metadata": {
        "id": "QGD4YWR88jA5",
        "colab_type": "code",
        "colab": {}
      },
      "source": [
        "def to_inches(x):\n",
        "  return x/2.54"
      ],
      "execution_count": 0,
      "outputs": []
    },
    {
      "cell_type": "code",
      "metadata": {
        "id": "FcvPVvf38vKi",
        "colab_type": "code",
        "colab": {}
      },
      "source": [
        "df['sepal length (in)'] = to_inches(df['sepal length (cm)'])\n",
        "df"
      ],
      "execution_count": 0,
      "outputs": []
    }
  ]
}